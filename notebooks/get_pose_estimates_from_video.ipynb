{
  "cells": [
    {
      "cell_type": "markdown",
      "metadata": {
        "id": "1o1MCQsp31Qf"
      },
      "source": [
        "### Get pose estimates from videos"
      ]
    },
    {
      "cell_type": "markdown",
      "metadata": {
        "id": "3udeH9muO1nD"
      },
      "source": [
        "- Place this notebook in Google Drive and open with colab\n",
        "- In Google drive, folders should be as follows:  \n",
        "Google Drive  \n",
        "├── colab_openpose  \n",
        "│   └── models  \n",
        "│   └──  video  \n",
        "│   └──  output_files  \n",
        "  \n",
        "- Put model file named 'model.h5' in models folder  \n",
        "- Put video files in video folder for pose extraction\n",
        "- Go to the Runtime bar and change runtime type to Python 3 and GPU. If already set, then ignore  "
      ]
    },
    {
      "cell_type": "markdown",
      "metadata": {
        "id": "UrJ0ExY3dHyP"
      },
      "source": [
        "Cell 1:  \n",
        "- Install and import modules  \n",
        "- Add GPU  \n",
        "- Mount google drive  \n",
        "- Enter authorization code"
      ]
    },
    {
      "cell_type": "code",
      "execution_count": 1,
      "metadata": {
        "colab": {
          "base_uri": "https://localhost:8080/"
        },
        "id": "bTnZpt2Wf85O",
        "outputId": "075a15fd-51a2-4fa5-dd67-2146495460d2"
      },
      "outputs": [
        {
          "output_type": "stream",
          "name": "stdout",
          "text": [
            "Looking in indexes: https://pypi.org/simple, https://us-python.pkg.dev/colab-wheels/public/simple/\n",
            "Collecting gputil\n",
            "  Downloading GPUtil-1.4.0.tar.gz (5.5 kB)\n",
            "  Preparing metadata (setup.py) ... \u001b[?25l\u001b[?25hdone\n",
            "Building wheels for collected packages: gputil\n",
            "  Building wheel for gputil (setup.py) ... \u001b[?25l\u001b[?25hdone\n",
            "  Created wheel for gputil: filename=GPUtil-1.4.0-py3-none-any.whl size=7409 sha256=83921fbc698045eb5cd18ecb8b52bc0827ea544a9571bb32cfc7bf31ba38bf58\n",
            "  Stored in directory: /root/.cache/pip/wheels/ba/03/bb/7a97840eb54479b328672e15a536e49dc60da200fb21564d53\n",
            "Successfully built gputil\n",
            "Installing collected packages: gputil\n",
            "Successfully installed gputil-1.4.0\n",
            "Looking in indexes: https://pypi.org/simple, https://us-python.pkg.dev/colab-wheels/public/simple/\n",
            "Requirement already satisfied: psutil in /usr/local/lib/python3.8/dist-packages (5.4.8)\n",
            "Looking in indexes: https://pypi.org/simple, https://us-python.pkg.dev/colab-wheels/public/simple/\n",
            "Requirement already satisfied: humanize in /usr/local/lib/python3.8/dist-packages (0.5.1)\n",
            "Gen RAM Free: 12.7 GB  I Proc size: 92.9 MB\n",
            "GPU RAM Free: 15109MB | Used: 0MB | Util   0% | Total 15109MB\n",
            "Mounted at /content/drive\n"
          ]
        }
      ],
      "source": [
        "# memory footprint support libraries/code\n",
        "!ln -sf /opt/bin/nvidia-smi /usr/bin/nvidia-smi # creating symlink\n",
        "!pip install gputil\n",
        "!pip install psutil\n",
        "!pip install humanize\n",
        "import psutil\n",
        "import humanize\n",
        "import os\n",
        "import GPUtil as GPU\n",
        "\n",
        "GPUs = GPU.getGPUs()\n",
        "# XXX: only one GPU on Colab and isn’t guaranteed\n",
        "gpu = GPUs[0]\n",
        "def printm():\n",
        "  process = psutil.Process(os.getpid())\n",
        "  print(\"Gen RAM Free: \" + humanize.naturalsize( psutil.virtual_memory().available ), \" I Proc size: \" + humanize.naturalsize( process.memory_info().rss))\n",
        "  print(\"GPU RAM Free: {0:.0f}MB | Used: {1:.0f}MB | Util {2:3.0f}% | Total {3:.0f}MB\".format(gpu.memoryFree, gpu.memoryUsed, gpu.memoryUtil*100, gpu.memoryTotal))\n",
        "\n",
        "# check if memory is free\n",
        "printm()\n",
        "\n",
        "# mount google drive\n",
        "# Please follow the instructions as they appear, you will need to grant permissions by opening a link verified by Google.\n",
        "\n",
        "# Load the Drive helper and mount\n",
        "from google.colab import drive\n",
        "\n",
        "# This will prompt for authorization.\n",
        "drive.mount('/content/drive')"
      ]
    },
    {
      "cell_type": "markdown",
      "metadata": {
        "id": "Wya4N4AKQrRx"
      },
      "source": [
        "Cell 2:  \n",
        "- Clone Github repo  \n",
        "- Install modules  \n",
        "- Copy model file and videos to colab\n",
        "- Run demo\n",
        "\n",
        "Pose estimate files and videos with overlaid pose are saved to output_files folder"
      ]
    },
    {
      "cell_type": "code",
      "execution_count": null,
      "metadata": {
        "colab": {
          "base_uri": "https://localhost:8080/"
        },
        "id": "P76h7-flYEVn",
        "outputId": "0e9b532e-34a8-44b9-ca8e-bd9866042f59"
      },
      "outputs": [
        {
          "output_type": "stream",
          "name": "stdout",
          "text": [
            "Cloning into 'Open-Pose-Keras'...\n",
            "remote: Enumerating objects: 420, done.\u001b[K\n",
            "remote: Counting objects: 100% (3/3), done.\u001b[K\n",
            "remote: Compressing objects: 100% (3/3), done.\u001b[K\n",
            "remote: Total 420 (delta 0), reused 0 (delta 0), pack-reused 417\u001b[K\n",
            "Receiving objects: 100% (420/420), 29.69 MiB | 8.42 MiB/s, done.\n",
            "Resolving deltas: 100% (239/239), done.\n",
            "Reading package lists... Done\n",
            "Building dependency tree       \n",
            "Reading state information... Done\n",
            "ffmpeg is already the newest version (7:3.4.11-0ubuntu0.1).\n",
            "The following package was automatically installed and is no longer required:\n",
            "  libnvidia-common-460\n",
            "Use 'apt autoremove' to remove it.\n",
            "0 upgraded, 0 newly installed, 0 to remove and 21 not upgraded.\n",
            "Looking in indexes: https://pypi.org/simple, https://us-python.pkg.dev/colab-wheels/public/simple/\n",
            "Collecting ConfigObj\n",
            "  Downloading configobj-5.0.6.tar.gz (33 kB)\n",
            "  Preparing metadata (setup.py) ... \u001b[?25l\u001b[?25hdone\n",
            "Requirement already satisfied: six in /usr/local/lib/python3.8/dist-packages (from ConfigObj) (1.15.0)\n",
            "Building wheels for collected packages: ConfigObj\n",
            "  Building wheel for ConfigObj (setup.py) ... \u001b[?25l\u001b[?25hdone\n",
            "  Created wheel for ConfigObj: filename=configobj-5.0.6-py3-none-any.whl size=34547 sha256=e3dda1d7300d3574620ff55bd87263b4b54f452d1bba48242dfd05fc1a89ac91\n",
            "  Stored in directory: /root/.cache/pip/wheels/34/2a/24/a490264ae9041fd48f778ff393526572c80bb498ddecb07ea5\n",
            "Successfully built ConfigObj\n",
            "Installing collected packages: ConfigObj\n",
            "Successfully installed ConfigObj-5.0.6\n",
            "Looking in indexes: https://pypi.org/simple, https://us-python.pkg.dev/colab-wheels/public/simple/\n",
            "Collecting sk-video\n",
            "  Downloading sk_video-1.1.10-py2.py3-none-any.whl (2.3 MB)\n",
            "\u001b[2K     \u001b[90m━━━━━━━━━━━━━━━━━━━━━━━━━━━━━━━━━━━━━━━━\u001b[0m \u001b[32m2.3/2.3 MB\u001b[0m \u001b[31m75.3 MB/s\u001b[0m eta \u001b[36m0:00:00\u001b[0m\n",
            "\u001b[?25hRequirement already satisfied: scipy in /usr/local/lib/python3.8/dist-packages (from sk-video) (1.7.3)\n",
            "Requirement already satisfied: numpy in /usr/local/lib/python3.8/dist-packages (from sk-video) (1.21.6)\n",
            "Installing collected packages: sk-video\n",
            "Successfully installed sk-video-1.1.10\n",
            "Looking in indexes: https://pypi.org/simple, https://us-python.pkg.dev/colab-wheels/public/simple/\n",
            "Requirement already satisfied: tqdm in /usr/local/lib/python3.8/dist-packages (4.64.1)\n",
            "filenames:\n",
            "['/content/Open-Pose-Keras/sample_videos/example_infant.mov']\n",
            "start processing...\n",
            "2023-01-17 03:34:21.149670: W tensorflow/core/common_runtime/gpu/gpu_bfc_allocator.cc:42] Overriding orig_value setting because the TF_FORCE_GPU_ALLOW_GROWTH environment variable is set. Original config value was 0.\n",
            "/content/Open-Pose-Keras/sample_videos/example_infant.mov\n",
            "vidname\n",
            "example_infant.mov\n",
            "vname\n",
            "example_infant\n",
            "Duration of video [s]:  6.033333333333333 , recorded with  30.0 fps!\n",
            "Overall # of frames:  181 with frame dimensions:  1080 608\n",
            "Generating frames\n",
            "1/1 [==============================] - 8s 8s/step\n",
            "1/1 [==============================] - 1s 1s/step\n",
            "1/1 [==============================] - 1s 1s/step\n",
            "1/1 [==============================] - 2s 2s/step\n",
            "1/1 [==============================] - 0s 23ms/step\n",
            "1/1 [==============================] - 0s 21ms/step\n"
          ]
        }
      ],
      "source": [
        "!git clone https://github.com/dhupee/Open-Pose-Keras.git\n",
        "!apt-get install ffmpeg --yes\n",
        "!pip install ConfigObj\n",
        "!pip install sk-video\n",
        "!pip install tqdm\n",
        "\n",
        "!mkdir /content/Open-Pose-Keras/model/keras\n",
        "!mkdir /content/Open-Pose-Keras/sample_videos\n",
        "!cp -a /content/drive/My\\ Drive/colab_openpose/models/original_cmu_model.h5 /content/Open-Pose-Keras/model/keras/model.h5\n",
        "!cp -a /content/drive/My\\ Drive/colab_openpose/videos/* /content/Open-Pose-Keras/sample_videos\n",
        "!CUDA_VISIBLE_DEVICES=0 python3 /content/Open-Pose-Keras/demo_video.py"
      ]
    },
    {
      "cell_type": "code",
      "execution_count": null,
      "metadata": {
        "id": "CPZ7gXvmWh6p"
      },
      "outputs": [],
      "source": []
    }
  ],
  "metadata": {
    "accelerator": "GPU",
    "colab": {
      "name": "Get_pose_estimates_from_video.ipynb",
      "provenance": []
    },
    "kernelspec": {
      "display_name": "Python 3",
      "language": "python",
      "name": "python3"
    },
    "language_info": {
      "codemirror_mode": {
        "name": "ipython",
        "version": 3
      },
      "file_extension": ".py",
      "mimetype": "text/x-python",
      "name": "python",
      "nbconvert_exporter": "python",
      "pygments_lexer": "ipython3",
      "version": "3.5.2"
    }
  },
  "nbformat": 4,
  "nbformat_minor": 0
}